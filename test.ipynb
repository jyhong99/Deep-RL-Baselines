{
 "cells": [
  {
   "cell_type": "code",
   "execution_count": null,
   "metadata": {},
   "outputs": [],
   "source": [
    "import gym\n",
    "from baselines.agent.policy_based.on_policy.ppo import PPO\n",
    "from baselines.agent.policy_based.off_policy.ddpg import DDPG\n",
    "\n",
    "env_name = 'HalfCheetah-v4'\n",
    "env = gym.make(env_name)\n",
    "agent = PPO(env, reward_norm=True, adv_norm=True)\n",
    "agent.train(env_name, normalized_env=True, max_iters=1000000, n_runners=8, runner_iters=100, eval_intervals=10000)"
   ]
  }
 ],
 "metadata": {
  "kernelspec": {
   "display_name": "pytorch",
   "language": "python",
   "name": "python3"
  },
  "language_info": {
   "codemirror_mode": {
    "name": "ipython",
    "version": 3
   },
   "file_extension": ".py",
   "mimetype": "text/x-python",
   "name": "python",
   "nbconvert_exporter": "python",
   "pygments_lexer": "ipython3",
   "version": "3.9.19"
  }
 },
 "nbformat": 4,
 "nbformat_minor": 2
}
